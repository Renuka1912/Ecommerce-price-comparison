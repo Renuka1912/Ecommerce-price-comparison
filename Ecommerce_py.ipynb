{
  "nbformat": 4,
  "nbformat_minor": 0,
  "metadata": {
    "colab": {
      "provenance": []
    },
    "kernelspec": {
      "name": "python3",
      "display_name": "Python 3"
    },
    "language_info": {
      "name": "python"
    }
  },
  "cells": [
    {
      "cell_type": "code",
      "execution_count": null,
      "metadata": {
        "id": "GH-NTknt4Uw_",
        "outputId": "f477d34a-f272-4e25-9379-114c1b321fcc",
        "colab": {
          "base_uri": "https://localhost:8080/"
        }
      },
      "outputs": [
        {
          "output_type": "stream",
          "name": "stdout",
          "text": [
            "Comparing prices for Laptop...\n",
            "\n",
            " Amazon Prices: ['49,990', '49,990', '31,990', '23,990', '24,990', '15,499', '62,990', '34,490', '15,990', '64,490', '24,490', '62,990', '56,990', '39,300', '33,999', '23,990', '12,990', '52,990', '44,990', '41,990', '10,470']\n",
            " eBay Prices: ['$20.00', '$20.00', '$294.15', '$372.60', '$159.99', '$158.43', '$112.50', '$117.50', '$420.00', '$575.00', '$31.00', '$480.00', '$54.00', '$224.50', '$74.99', '$245.00to$620.00', '$98.10', '$219.88to$543.27', '$118.80', '$159.00', '$599.99', '$158.82to$261.09', '$164.99', '$419.00to$619.00', '$403.01', '$101.82', '$239.99to$567.00', '$198.03', '$82.10', '$612.99', '$119.99to$164.99', '$74.62', '$90.00', '$299.99', '$88.20', '$299.99', '$599.99', '$175.99', '$148.75', '$183.00', '$415.89', '$325.16', '$439.00to$659.00', '$239.00to$349.00', '$279.99', '$249.95', '$379.00', '$174.95', '$344.87', '$193.19', '$344.99', '$384.95', '$169.99', '$213.79', '$469.00', '$1,099.00', '$159.95', '$194.37', '$499.99', '$289.95', '$519.99', '$348.95', '$649.00', '$489.00', '$154.95', '$229.99', '$199.99', '$124.99', '$323.57', '$196.95']\n",
            " Walmart Prices: ['No prices found']\n"
          ]
        }
      ],
      "source": [
        "import requests\n",
        "from bs4 import BeautifulSoup\n",
        "\n",
        "class PriceScraper:\n",
        "    \"\"\"\n",
        "    PriceScraper class for scraping and comparing product prices across multiple e-commerce platforms.\n",
        "    \"\"\"\n",
        "\n",
        "    def __init__(self):\n",
        "        self.platform_urls = {\n",
        "            'Amazon': 'https://www.amazon.in/s?k=',  # Amazon Search URL\n",
        "            'eBay': 'https://www.ebay.com/sch/i.html?_nkw=',\n",
        "            'Walmart': 'https://www.walmart.com/search?q='\n",
        "        }\n",
        "        self.headers = {\n",
        "            'User-Agent': 'Mozilla/5.0 (Windows NT 10.0; Win64; x64) AppleWebKit/537.36 (KHTML, like Gecko) Chrome/133.0.0.0 Safari/537.36'\n",
        "        }\n",
        "\n",
        "    def fetch_page(self, url):\n",
        "        \"\"\"Fetch the HTML content of a page.\"\"\"\n",
        "        try:\n",
        "            response = requests.get(url, headers=self.headers, timeout=10)\n",
        "            response.raise_for_status()  # Raise error for HTTP issues\n",
        "            return response.text\n",
        "        except requests.exceptions.RequestException as e:\n",
        "            print(f\"Failed to fetch page: {url} | Error: {e}\")\n",
        "            return None\n",
        "\n",
        "    def scrape_amazon(self, product_name):\n",
        "        \"\"\"Scrape Amazon for product prices (Limited due to restrictions).\"\"\"\n",
        "        search_url = self.platform_urls['Amazon'] + product_name.replace(' ', '+')\n",
        "        html = self.fetch_page(search_url)\n",
        "        if html:\n",
        "            soup = BeautifulSoup(html, 'html.parser')\n",
        "            results = soup.find_all('span', {'class': 'a-price-whole'})\n",
        "            prices = [price.get_text(strip=True) for price in results]\n",
        "            return prices if prices else [\"No prices found\"]\n",
        "        return [\"Failed to fetch data\"]\n",
        "\n",
        "    def scrape_ebay(self, product_name):\n",
        "        \"\"\"Scrape eBay for product prices.\"\"\"\n",
        "        search_url = self.platform_urls['eBay'] + product_name.replace(' ', '+')\n",
        "        html = self.fetch_page(search_url)\n",
        "        if html:\n",
        "            soup = BeautifulSoup(html, 'html.parser')\n",
        "            results = soup.find_all('span', {'class': 's-item__price'})\n",
        "            prices = [price.get_text(strip=True) for price in results]\n",
        "            return prices if prices else [\"No prices found\"]\n",
        "        return [\"Failed to fetch data\"]\n",
        "\n",
        "    def scrape_walmart(self, product_name):\n",
        "        \"\"\"Scrape Walmart for product prices.\"\"\"\n",
        "        search_url = self.platform_urls['Walmart'] + product_name.replace(' ', '+')\n",
        "        html = self.fetch_page(search_url)\n",
        "        if html:\n",
        "            soup = BeautifulSoup(html, 'html.parser')\n",
        "            results = soup.find_all('span', {'class': 'price-characteristic'})  # Adjusted Walmart selector\n",
        "            prices = [price.get_text(strip=True) for price in results]\n",
        "            return prices if prices else [\"No prices found\"]\n",
        "        return [\"Failed to fetch data\"]\n",
        "\n",
        "    def compare_prices(self, product_name):\n",
        "        \"\"\"Compare prices across platforms.\"\"\"\n",
        "        print(f\"Comparing prices for {product_name}...\\n\")\n",
        "\n",
        "        amazon_prices = self.scrape_amazon(product_name)\n",
        "        ebay_prices = self.scrape_ebay(product_name)\n",
        "        walmart_prices = self.scrape_walmart(product_name)\n",
        "\n",
        "        print(f\" Amazon Prices: {amazon_prices}\")\n",
        "        print(f\" eBay Prices: {ebay_prices}\")\n",
        "        print(f\" Walmart Prices: {walmart_prices}\")\n",
        "\n",
        "if __name__ == '__main__':\n",
        "    scraper = PriceScraper()\n",
        "    scraper.compare_prices('Laptop')"
      ]
    }
  ]
}